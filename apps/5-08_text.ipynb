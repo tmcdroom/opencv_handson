{
 "cells": [
  {
   "cell_type": "markdown",
   "metadata": {},
   "source": [
    "# テキスト描画\n",
    "- 機能：テキストを描画\n",
    "- 活用事例：画像判定の結果表示、物体検出のクラス表示など\n",
    "- 課題：いろんなテキストを描画してみよう"
   ]
  },
  {
   "cell_type": "markdown",
   "metadata": {},
   "source": [
    "## 画像処理"
   ]
  },
  {
   "cell_type": "code",
   "execution_count": 1,
   "metadata": {},
   "outputs": [
    {
     "data": {
      "text/plain": [
       "-1"
      ]
     },
     "execution_count": 1,
     "metadata": {},
     "output_type": "execute_result"
    }
   ],
   "source": [
    "import cv2\n",
    "\n",
    "\n",
    "# 画像読み込み\n",
    "img = cv2.imread('./images/nabe550.png')\n",
    "img = cv2.resize(img, (480, 480))\n",
    "\n",
    "# 画像コピー\n",
    "img_text = img.copy() #線描画用画像\n",
    "\n",
    "# 文字描画\n",
    "img_text = cv2.putText(\n",
    "    img=img_text, # 対象画像\n",
    "    text='Yaminabe', # 描画文字（日本語は不可）\n",
    "    org=(70, 450), # 表示位置（横、縦）\n",
    "    fontFace=cv2.FONT_HERSHEY_TRIPLEX, # フォント\n",
    "    fontScale=1.8, # 文字の大きさ\n",
    "    color=(0, 0, 255), # 文字の色BGR\n",
    "    lineType=cv2.LINE_AA, # 線の種別\n",
    "    )\n",
    "\n",
    "# 画像表示\n",
    "cv2.imshow('original_image', img)\n",
    "cv2.imshow('line_image', img_text)\n",
    "\n",
    "# 終了処理\n",
    "cv2.waitKey(0)\n",
    "cv2.destroyAllWindows()\n",
    "\n",
    "cv2.waitKey(1) #Macで終了時に固まってしまう対処"
   ]
  },
  {
   "cell_type": "markdown",
   "metadata": {},
   "source": [
    "## カメラ／動画処理"
   ]
  },
  {
   "cell_type": "code",
   "execution_count": 2,
   "metadata": {},
   "outputs": [],
   "source": [
    "import cv2\n",
    "\n",
    "\n",
    "cap = cv2.VideoCapture(0)\n",
    "# cap = cv2.VideoCapture(0, cv2.CAP_DSHOW)\n",
    "\n",
    "while True:\n",
    "    \n",
    "    # カメラからフレームを取得\n",
    "    ret, frame = cap.read()\n",
    "    frame = cv2.resize(frame, (640, 480))\n",
    "\n",
    "    # 文字描画\n",
    "    img_text = cv2.putText(\n",
    "        img=frame, # 対象画像\n",
    "        text='Yaminabe', # 描画文字（日本語は不可）\n",
    "        org=(70, 450), # 表示位置\n",
    "        fontFace=cv2.FONT_HERSHEY_TRIPLEX, # フォント\n",
    "        fontScale=3.0, # 文字の大きさ\n",
    "        color=(0, 0, 255), # 文字の色\n",
    "        lineType=cv2.LINE_AA, # 線の種別\n",
    "        )\n",
    "\n",
    "    # 画像表示\n",
    "    cv2.imshow('movie', frame)\n",
    "\n",
    "    # ESCキーを押したらループを終了\n",
    "    key = cv2.waitKey(1)\n",
    "    if key == 27:\n",
    "        break\n",
    "\n",
    "cap.release()\n",
    "cv2.destroyAllWindows()\n",
    "\n",
    "# Macの方は下記コードのコメント解除してください\n",
    "# cv2.waitKey(1)"
   ]
  },
  {
   "cell_type": "code",
   "execution_count": null,
   "metadata": {},
   "outputs": [],
   "source": []
  }
 ],
 "metadata": {
  "interpreter": {
   "hash": "b68e25d4e547eea1d6d40c268719458debd8508e81b2e3bb6bbe0f173207ed28"
  },
  "kernelspec": {
   "display_name": "Python 3.9.5 64-bit ('py39': venv)",
   "name": "python3"
  },
  "language_info": {
   "codemirror_mode": {
    "name": "ipython",
    "version": 3
   },
   "file_extension": ".py",
   "mimetype": "text/x-python",
   "name": "python",
   "nbconvert_exporter": "python",
   "pygments_lexer": "ipython3",
   "version": "3.11.7"
  },
  "orig_nbformat": 4
 },
 "nbformat": 4,
 "nbformat_minor": 2
}
