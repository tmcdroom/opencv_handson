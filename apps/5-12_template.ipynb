{
 "cells": [
  {
   "cell_type": "markdown",
   "metadata": {},
   "source": [
    "# テンプレートマッチング\n",
    "- 機能：テンプレート画像と類似している箇所を検出\n",
    "- 活用事例：形状抽出（AIよりも楽）、数値読み取りなど\n",
    "- 課題：ご自身の画像でテンプレートマッチングをやってみよう"
   ]
  },
  {
   "attachments": {},
   "cell_type": "markdown",
   "metadata": {},
   "source": [
    "### テンプレート画像の生成"
   ]
  },
  {
   "cell_type": "code",
   "execution_count": 1,
   "metadata": {},
   "outputs": [
    {
     "data": {
      "text/plain": [
       "-1"
      ]
     },
     "execution_count": 1,
     "metadata": {},
     "output_type": "execute_result"
    }
   ],
   "source": [
    "import cv2\n",
    "\n",
    "\n",
    "# 画像読み込み\n",
    "img = cv2.imread('./images/nabe550.png')\n",
    "img = cv2.resize(img, (480, 480))\n",
    "\n",
    "# 画像切り取り [y始点:y終点, x始点:x終点]\n",
    "img_cut = img[260:430, 130:340]\n",
    "\n",
    "# 画像保存\n",
    "cv2.imwrite('./images/temple_image.png', img_cut)\n",
    "\n",
    "# 画像表示\n",
    "cv2.imshow('original_image', img)\n",
    "cv2.imshow('cut_image', img_cut)\n",
    "\n",
    "# 終了処理\n",
    "cv2.waitKey(0)\n",
    "cv2.destroyAllWindows()\n",
    "\n",
    "cv2.waitKey(1) #Macで終了時に固まってしまう対処"
   ]
  },
  {
   "attachments": {},
   "cell_type": "markdown",
   "metadata": {},
   "source": [
    "### テンプレートマッチング"
   ]
  },
  {
   "cell_type": "code",
   "execution_count": 3,
   "metadata": {},
   "outputs": [
    {
     "name": "stdout",
     "output_type": "stream",
     "text": [
      "917103552.0\n"
     ]
    },
    {
     "data": {
      "text/plain": [
       "-1"
      ]
     },
     "execution_count": 3,
     "metadata": {},
     "output_type": "execute_result"
    }
   ],
   "source": [
    "import cv2\n",
    "import numpy as np\n",
    "\n",
    "\n",
    "# 画像読み込み\n",
    "img = cv2.imread('./images/nabe550.png')\n",
    "img = cv2.resize(img, (480, 480))\n",
    "\n",
    "# テンプレート画像読み込み\n",
    "templ_img = cv2.imread('./images/temple_image.png')\n",
    "height_templ = templ_img.shape[0]\n",
    "width_templ = templ_img.shape[1]\n",
    "\n",
    "# テンプレートマッチング\n",
    "result = cv2.matchTemplate(image=img, templ=templ_img, method=cv2.TM_CCOEFF)\n",
    "\n",
    "# 配列内の最小値と最大値を見つける（maxLoc=最も一致、minLoc=最も類似しない）\n",
    "_, maxVal, _, maxLoc = cv2.minMaxLoc(result)\n",
    "print(maxVal)\n",
    "\n",
    "# マッチング結果のしきい値処理\n",
    "threshold = 900000000.0  # しきい値を設定\n",
    "if maxVal >= threshold:\n",
    "    x, y = maxLoc\n",
    "\n",
    "    # バウンディングボックスの色設定 [BGR]\n",
    "    color = np.array([0., 0., 255.])\n",
    "\n",
    "    # 類似している部分に四角描画\n",
    "    cv2.rectangle(img=img, pt1=(x, y), pt2=(x + width_templ, y + height_templ), color=color, thickness=3)\n",
    "\n",
    "# 画像表示\n",
    "cv2.imshow('original_image', img)\n",
    "cv2.waitKey(0)\n",
    "\n",
    "cv2.destroyAllWindows()\n",
    "\n",
    "cv2.waitKey(1) #Macで終了時に固まってしまう対処"
   ]
  },
  {
   "cell_type": "markdown",
   "metadata": {},
   "source": [
    "### カメラ／動画処理"
   ]
  },
  {
   "cell_type": "code",
   "execution_count": 4,
   "metadata": {},
   "outputs": [
    {
     "data": {
      "text/plain": [
       "-1"
      ]
     },
     "execution_count": 4,
     "metadata": {},
     "output_type": "execute_result"
    }
   ],
   "source": [
    "import cv2\n",
    "import numpy as np\n",
    "\n",
    "\n",
    "cap = cv2.VideoCapture(0)\n",
    "# cap = cv2.VideoCapture(0, cv2.CAP_DSHOW)\n",
    "\n",
    "# テンプレート画像読み込み\n",
    "templ_img = cv2.imread('./images/temple_image.png')\n",
    "height_templ = templ_img.shape[0]\n",
    "width_templ = templ_img.shape[1]\n",
    "\n",
    "while True:\n",
    "    \n",
    "    # カメラからフレームを取得\n",
    "    ret, frame = cap.read()\n",
    "    frame = cv2.resize(frame, (640, 480))\n",
    "\n",
    "    # テンプレートマッチング\n",
    "    result = cv2.matchTemplate(image=frame, templ=templ_img, method=cv2.TM_CCOEFF)\n",
    "\n",
    "    # 配列内の最小値と最大値を見つける（maxLoc=最も一致、minLoc=最も類似しない）\n",
    "    _, maxVal, _, maxLoc = cv2.minMaxLoc(result)\n",
    "    # print(maxVal)\n",
    "\n",
    "    # マッチング結果のしきい値処理    \n",
    "    threshold = 400000000.0  # しきい値を設定\n",
    "    if maxVal >= threshold:\n",
    "        x, y = maxLoc\n",
    "\n",
    "        # バウンディングボックスの色設定 [BGR]\n",
    "        color = np.array([0., 0., 255.])\n",
    "\n",
    "        # 類似している部分に四角描画\n",
    "        cv2.rectangle(img=frame, pt1=(x, y), pt2=(x + width_templ, y + height_templ), color=color, thickness=3)\n",
    "\n",
    "    # 画像表示\n",
    "    cv2.imshow('movie', frame)\n",
    "\n",
    "    # ESCキーを押したらループを終了\n",
    "    key = cv2.waitKey(1)\n",
    "    if key == 27:\n",
    "        break\n",
    "\n",
    "cap.release()\n",
    "cv2.destroyAllWindows()\n",
    "\n",
    "# Macの方は下記コードのコメント解除してください\n",
    "# cv2.waitKey(1)"
   ]
  },
  {
   "cell_type": "code",
   "execution_count": null,
   "metadata": {},
   "outputs": [],
   "source": []
  }
 ],
 "metadata": {
  "kernelspec": {
   "display_name": "Python 3.9.13 ('py39': venv)",
   "language": "python",
   "name": "python3"
  },
  "language_info": {
   "codemirror_mode": {
    "name": "ipython",
    "version": 3
   },
   "file_extension": ".py",
   "mimetype": "text/x-python",
   "name": "python",
   "nbconvert_exporter": "python",
   "pygments_lexer": "ipython3",
   "version": "3.11.7"
  },
  "orig_nbformat": 4,
  "vscode": {
   "interpreter": {
    "hash": "77dfb8f972c2703223d0b6b4a7551c8eb465c70e1f5787aa75eea7e4eebd52f0"
   }
  }
 },
 "nbformat": 4,
 "nbformat_minor": 2
}
