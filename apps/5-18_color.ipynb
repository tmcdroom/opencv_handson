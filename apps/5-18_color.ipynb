{
 "cells": [
  {
   "cell_type": "markdown",
   "metadata": {},
   "source": [
    "# 色検出\n",
    "- 機能：色を検出\n",
    "- 活用事例：ワーク位置検出、領域抽出したい時など\n",
    "- 課題：パラメータの意味を調べていろいろ調整してみよう"
   ]
  },
  {
   "cell_type": "code",
   "execution_count": 14,
   "metadata": {},
   "outputs": [],
   "source": [
    "import cv2\n",
    "import numpy as np\n",
    "\n",
    "\n",
    "# 画像読み込み＆リサイズ\n",
    "img = cv2.imread('./images/nabe550.png')\n",
    "img = cv2.resize(img, (480, 480))\n",
    "\n",
    "# HSV変換\n",
    "img_hsv = cv2.cvtColor(img, cv2.COLOR_BGR2HSV)\n",
    "\n",
    "# 赤色の色検出しきい値の設定 [HSV]\n",
    "# 赤色は色相が0付近または180付近にあるため、二つの範囲を設定\n",
    "lower_color1 = np.array([0, 50, 50])\n",
    "upper_color1 = np.array([5, 255, 255])\n",
    "lower_color2 = np.array([175, 100, 50])\n",
    "upper_color2 = np.array([180, 255, 255])\n",
    "\n",
    "# 色検出しきい値範囲内の色を抽出するマスクを作成\n",
    "mask_red1 = cv2.inRange(img_hsv, lower_color1, upper_color1)\n",
    "mask_red2 = cv2.inRange(img_hsv, lower_color2, upper_color2)\n",
    "img_red = cv2.bitwise_or(mask_red1, mask_red2)\n",
    "\n",
    "# 白黒反転（必要に応じて）\n",
    "img_red = cv2.bitwise_not(img_red)\n",
    "\n",
    "# 画像表示\n",
    "cv2.imshow('original_image', img)\n",
    "cv2.imshow('color_image', img_red)\n",
    "\n",
    "# 終了処理\n",
    "cv2.waitKey(0)\n",
    "cv2.destroyAllWindows()\n",
    "\n",
    "cv2.waitKey(1) #Macで終了時に固まってしまう対処"
   ]
  },
  {
   "cell_type": "code",
   "execution_count": null,
   "metadata": {},
   "outputs": [],
   "source": []
  }
 ],
 "metadata": {
  "kernelspec": {
   "display_name": "Python 3 (ipykernel)",
   "language": "python",
   "name": "python3"
  },
  "language_info": {
   "codemirror_mode": {
    "name": "ipython",
    "version": 3
   },
   "file_extension": ".py",
   "mimetype": "text/x-python",
   "name": "python",
   "nbconvert_exporter": "python",
   "pygments_lexer": "ipython3",
   "version": "3.11.7"
  },
  "vscode": {
   "interpreter": {
    "hash": "d8e94b8664a19bde008c6bd938e7b97448a45306ca7aa77b863dd44610e511e5"
   }
  }
 },
 "nbformat": 4,
 "nbformat_minor": 2
}
