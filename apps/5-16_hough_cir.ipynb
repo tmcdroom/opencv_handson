{
 "cells": [
  {
   "cell_type": "markdown",
   "metadata": {},
   "source": [
    "# ハフ変換（円検出）\n",
    "- 機能：円を検出\n",
    "- 活用事例：ワーク位置検出したい時など\n",
    "- 課題：パラメータの意味を調べていろいろ調整してみよう"
   ]
  },
  {
   "cell_type": "code",
   "execution_count": 1,
   "metadata": {},
   "outputs": [],
   "source": [
    "import cv2\n",
    "import numpy as np\n",
    "\n",
    "\n",
    "# 画像読み込み\n",
    "img = cv2.imread('./images/nabe550.png')\n",
    "img = cv2.resize(img, (480, 480))\n",
    "\n",
    "# グレースケール化\n",
    "img_gray = cv2.cvtColor(img, cv2.COLOR_BGR2GRAY)\n",
    "\n",
    "# 円の検出\n",
    "circles = cv2.HoughCircles(img_gray, cv2.HOUGH_GRADIENT, dp=1, minDist=500, param1=20, param2=50, minRadius=60, maxRadius=200)\n",
    "\n",
    "# 円の描画\n",
    "if circles is not None:\n",
    "    circles = np.uint16(np.around(circles))\n",
    "\n",
    "for i in circles[0, :]:\n",
    "    # 円周を描画\n",
    "    cv2.circle(img, (i[0], i[1]), i[2], (0, 0, 255), 2)\n",
    "    # 中心点を描画\n",
    "    cv2.circle(img, (i[0], i[1]), 2, (0, 0, 255), 3)\n",
    "\n",
    "# 画像表示\n",
    "cv2.imshow('circles_image', img)\n",
    "\n",
    "# 終了処理\n",
    "cv2.waitKey(0)\n",
    "cv2.destroyAllWindows()\n",
    "\n",
    "cv2.waitKey(1) #Macで終了時に固まってしまう対処"
   ]
  },
  {
   "cell_type": "code",
   "execution_count": null,
   "metadata": {},
   "outputs": [],
   "source": []
  }
 ],
 "metadata": {
  "kernelspec": {
   "display_name": "Python 3 (ipykernel)",
   "language": "python",
   "name": "python3"
  },
  "language_info": {
   "codemirror_mode": {
    "name": "ipython",
    "version": 3
   },
   "file_extension": ".py",
   "mimetype": "text/x-python",
   "name": "python",
   "nbconvert_exporter": "python",
   "pygments_lexer": "ipython3",
   "version": "3.11.7"
  },
  "vscode": {
   "interpreter": {
    "hash": "d8e94b8664a19bde008c6bd938e7b97448a45306ca7aa77b863dd44610e511e5"
   }
  }
 },
 "nbformat": 4,
 "nbformat_minor": 2
}
