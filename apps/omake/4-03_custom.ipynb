{
 "cells": [
  {
   "cell_type": "markdown",
   "metadata": {},
   "source": [
    "# カメラ撮影プログラム（カスタマイズ）\n",
    "- 課題：ChatGPTなどを活用してプログラムを修正してみよう\n",
    "- 下記はプログラム例です"
   ]
  },
  {
   "cell_type": "code",
   "execution_count": 1,
   "metadata": {},
   "outputs": [
    {
     "name": "stdout",
     "output_type": "stream",
     "text": [
      "Start recording: ./capture/video/20240514135849.avi\n"
     ]
    }
   ],
   "source": [
    "import cv2\n",
    "import os\n",
    "from datetime import datetime\n",
    "\n",
    "\n",
    "# 保存先フォルダの作成\n",
    "os.makedirs('./capture/picture/', exist_ok=True)\n",
    "os.makedirs('./capture/video/', exist_ok=True)\n",
    "\n",
    "# カメラの設定\n",
    "cap = cv2.VideoCapture(0)\n",
    "cap.set(cv2.CAP_PROP_FRAME_WIDTH, 640)  # 解像度の設定\n",
    "cap.set(cv2.CAP_PROP_FRAME_HEIGHT, 480)\n",
    "cap.set(cv2.CAP_PROP_FPS, 30)  # FPSの設定\n",
    "\n",
    "# Vキーを押すと動画撮影\n",
    "now = datetime.now().strftime(\"%Y%m%d%H%M%S\")\n",
    "filename = f\"./capture/video/{now}.avi\"\n",
    "fourcc = cv2.VideoWriter_fourcc(*'XVID')\n",
    "out = cv2.VideoWriter(filename, fourcc, 30.0, (640, 480))\n",
    "print(f\"Start recording: {filename}\")\n",
    "\n",
    "# メインループ\n",
    "while True:\n",
    "    ret, frame = cap.read()\n",
    "\n",
    "    cv2.imshow('Camera', frame)\n",
    "\n",
    "    key = cv2.waitKey(1) & 0xFF\n",
    "\n",
    "    # Sキーを押すと静止画撮影\n",
    "    if key == ord('s'):\n",
    "        now = datetime.now().strftime(\"%Y%m%d%H%M%S\")\n",
    "        filename = f\"./capture/picture/{now}.jpg\"\n",
    "        cv2.imwrite(filename, frame)\n",
    "        print(f\"Saved picture: {filename}\")\n",
    "\n",
    "    out.write(frame)\n",
    "\n",
    "    # Qキーで動画撮影終了\n",
    "    if key == ord('q'):\n",
    "        print(f\"Stop recording: {filename}\")\n",
    "        break\n",
    "\n",
    "    # ESCキーで終了\n",
    "    if key == 27:\n",
    "        break\n",
    "\n",
    "\n",
    "# 終了処理\n",
    "cap.release()\n",
    "out.release()\n",
    "cv2.waitKey(0)\n",
    "cv2.destroyAllWindows()\n",
    "\n",
    "# Macの方は下記コードのコメント解除してください\n",
    "# cv2.waitKey(1)"
   ]
  },
  {
   "cell_type": "code",
   "execution_count": null,
   "metadata": {},
   "outputs": [],
   "source": []
  }
 ],
 "metadata": {
  "kernelspec": {
   "display_name": "Python 3.9.13 64-bit",
   "language": "python",
   "name": "python3"
  },
  "language_info": {
   "codemirror_mode": {
    "name": "ipython",
    "version": 3
   },
   "file_extension": ".py",
   "mimetype": "text/x-python",
   "name": "python",
   "nbconvert_exporter": "python",
   "pygments_lexer": "ipython3",
   "version": "3.11.7"
  },
  "vscode": {
   "interpreter": {
    "hash": "d8e94b8664a19bde008c6bd938e7b97448a45306ca7aa77b863dd44610e511e5"
   }
  }
 },
 "nbformat": 4,
 "nbformat_minor": 2
}
