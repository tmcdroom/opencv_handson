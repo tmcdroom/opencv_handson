{
 "cells": [
  {
   "cell_type": "markdown",
   "metadata": {},
   "source": [
    "# オープニング/クロージング\n",
    "- 機能：画像を膨張収縮させる処理\n",
    "- 活用事例：ノイズの除去、欠損部の補完など\n",
    "- 課題：kernelやiterationsを調整してみましょう\n",
    "- チャレンジ課題：`images/try.png` のノイズ除去をやってみましょう"
   ]
  },
  {
   "cell_type": "markdown",
   "metadata": {},
   "source": [
    "### 画像処理"
   ]
  },
  {
   "cell_type": "code",
   "execution_count": 1,
   "metadata": {},
   "outputs": [
    {
     "data": {
      "text/plain": [
       "-1"
      ]
     },
     "execution_count": 1,
     "metadata": {},
     "output_type": "execute_result"
    }
   ],
   "source": [
    "import cv2\n",
    "import numpy as np\n",
    "\n",
    "\n",
    "# 画像読み込み\n",
    "img = cv2.imread('./images/nabe550.png')\n",
    "img = cv2.resize(img, (480, 480))\n",
    "\n",
    "# カーネル設定\n",
    "kernel = np.ones((5, 5), np.uint8)\n",
    "\n",
    "# オープニング（収縮 => 膨張）\n",
    "img_morph_op = cv2.morphologyEx(src=img, op=cv2.MORPH_OPEN, kernel=kernel, iterations=3)\n",
    "\n",
    "# クロージング（膨張 => 収縮）\n",
    "img_morph_cl = cv2.morphologyEx(src=img, op=cv2.MORPH_CLOSE, kernel=kernel, iterations=3)\n",
    "\n",
    "# 膨張\n",
    "img_morph_dilate = cv2.dilate(img, kernel, iterations=1)\n",
    "\n",
    "# 収縮\n",
    "img_morph_erode = cv2.erode(img, kernel, iterations=1)\n",
    "\n",
    "# 画像表示\n",
    "cv2.imshow('original_image', img)\n",
    "cv2.imshow('op_image', img_morph_op)\n",
    "cv2.imshow('cl_image', img_morph_cl)\n",
    "\n",
    "cv2.imshow('dilate_image', img_morph_dilate)\n",
    "cv2.imshow('erode_image', img_morph_erode)\n",
    "\n",
    "# 終了処理\n",
    "cv2.waitKey(0)\n",
    "cv2.destroyAllWindows()\n",
    "\n",
    "cv2.waitKey(1) #Macで終了時に固まってしまう対処"
   ]
  },
  {
   "cell_type": "markdown",
   "metadata": {},
   "source": [
    "### チャレンジ課題\n",
    "元画像にできるだけ影響を与えないようにして、ノイズを除去してみましょう"
   ]
  },
  {
   "cell_type": "code",
   "execution_count": 4,
   "metadata": {},
   "outputs": [
    {
     "data": {
      "text/plain": [
       "-1"
      ]
     },
     "execution_count": 4,
     "metadata": {},
     "output_type": "execute_result"
    }
   ],
   "source": [
    "import cv2\n",
    "import numpy as np\n",
    "\n",
    "\n",
    "# 画像読み込み\n",
    "img = cv2.imread('./images/try.png')\n",
    "img = cv2.resize(img, (480, 480))\n",
    "\n",
    "# カーネル設定\n",
    "kernel = np.ones((5, 5), np.uint8)\n",
    "\n",
    "# トライ\n",
    "# img_morph_try = cv2.morphologyEx(src=img, op=cv2.MORPH_OPEN, kernel=kernel, iterations=1)\n",
    "img_morph_try = cv2.morphologyEx(src=img, op=cv2.MORPH_CLOSE, kernel=kernel, iterations=1)\n",
    "\n",
    "# 画像表示\n",
    "cv2.imshow('original_image', img)\n",
    "cv2.imshow('try_image', img_morph_try)\n",
    "\n",
    "cv2.waitKey(0)\n",
    "cv2.destroyAllWindows()\n",
    "\n",
    "cv2.waitKey(1) #Macで終了時に固まってしまう対処"
   ]
  },
  {
   "cell_type": "markdown",
   "metadata": {},
   "source": [
    "### カメラ／動画処理"
   ]
  },
  {
   "cell_type": "code",
   "execution_count": 9,
   "metadata": {},
   "outputs": [],
   "source": [
    "import cv2\n",
    "\n",
    "\n",
    "cap = cv2.VideoCapture(0)\n",
    "# cap = cv2.VideoCapture(0, cv2.CAP_DSHOW)\n",
    "\n",
    "while True:\n",
    "    \n",
    "    # カメラからフレームを取得\n",
    "    ret, frame = cap.read()\n",
    "    frame = cv2.resize(frame, (640, 480))\n",
    "\n",
    "    # クロージング（膨張 => 収縮）\n",
    "    frame = cv2.morphologyEx(src=frame, op=cv2.MORPH_CLOSE, kernel=kernel, iterations=10)\n",
    "\n",
    "    # 画像表示\n",
    "    cv2.imshow('movie', frame)\n",
    "\n",
    "    # ESCキーを押したらループを終了\n",
    "    key = cv2.waitKey(1)\n",
    "    if key == 27:\n",
    "        break\n",
    "\n",
    "cap.release()\n",
    "cv2.destroyAllWindows()\n",
    "\n",
    "# Macの方は下記コードのコメント解除してください\n",
    "# cv2.waitKey(1)"
   ]
  },
  {
   "cell_type": "code",
   "execution_count": null,
   "metadata": {},
   "outputs": [],
   "source": []
  }
 ],
 "metadata": {
  "kernelspec": {
   "display_name": "Python 3.9.13 ('py39': venv)",
   "language": "python",
   "name": "python3"
  },
  "language_info": {
   "codemirror_mode": {
    "name": "ipython",
    "version": 3
   },
   "file_extension": ".py",
   "mimetype": "text/x-python",
   "name": "python",
   "nbconvert_exporter": "python",
   "pygments_lexer": "ipython3",
   "version": "3.11.7"
  },
  "orig_nbformat": 4,
  "vscode": {
   "interpreter": {
    "hash": "77dfb8f972c2703223d0b6b4a7551c8eb465c70e1f5787aa75eea7e4eebd52f0"
   }
  }
 },
 "nbformat": 4,
 "nbformat_minor": 2
}
