{
 "cells": [
  {
   "cell_type": "markdown",
   "metadata": {},
   "source": [
    "# QRコード読み取り\n",
    "- 機能：画像のQRコードを読み取る"
   ]
  },
  {
   "cell_type": "code",
   "execution_count": 1,
   "metadata": {},
   "outputs": [
    {
     "name": "stdout",
     "output_type": "stream",
     "text": [
      "Text : D-ROOM\n"
     ]
    }
   ],
   "source": [
    "import cv2\n",
    "import numpy as np\n",
    "\n",
    "\n",
    "# QRコード周囲の白い枠を生成する関数\n",
    "def create_base_img(height, width):\n",
    "    size = np.array([height + 20, width + 20, 3])\n",
    "    white_color = np.array([255., 255., 255.])\n",
    "    base_img = np.full(size, white_color, dtype=np.uint8)\n",
    "    return base_img\n",
    "\n",
    "# 画像読み込み\n",
    "img = cv2.imread('./images/qr.png')\n",
    "height = img.shape[0]\n",
    "width = img.shape[1]\n",
    "\n",
    "# 周囲に空白作成\n",
    "base_img = create_base_img(height, width)\n",
    "base_img[10:height + 10, 10:width + 10] = img\n",
    "\n",
    "# QRコード読み込み\n",
    "code = cv2.QRCodeDetector()\n",
    "\n",
    "try:\n",
    "    data, bbox, rectified_image = code.detectAndDecode(base_img)\n",
    "except UnicodeDecodeError as ex:\n",
    "    data = ex.object.decode('ISO-8859-1')\n",
    "\n",
    "# QRコードの中身表示\n",
    "print('Text :', data)\n",
    "\n",
    "# 画像表示\n",
    "if data == \"\":\n",
    "    print('読み取れません')\n",
    "else:\n",
    "    cv2.imshow('QR_Code', base_img)\n",
    "    \n",
    "    # 終了処理\n",
    "    cv2.waitKey(0)\n",
    "    cv2.destroyAllWindows()\n",
    "\n",
    "    cv2.waitKey(1) #Macで終了時に固まってしまう対処"
   ]
  },
  {
   "cell_type": "markdown",
   "metadata": {},
   "source": [
    "### カメラ／動画処理"
   ]
  },
  {
   "cell_type": "code",
   "execution_count": 1,
   "metadata": {},
   "outputs": [
    {
     "name": "stdout",
     "output_type": "stream",
     "text": [
      "QRコードが検出されません\n",
      "QRコードが検出されません\n",
      "QRコードが検出されません\n",
      "QRコードが検出されません\n",
      "Text : D-ROOM\n",
      "QRコードが検出されません\n",
      "QRコードが検出されません\n",
      "QRコードが検出されません\n",
      "Text : D-ROOM\n",
      "Text : D-ROOM\n",
      "Text : D-ROOM\n",
      "Text : D-ROOM\n",
      "Text : D-ROOM\n",
      "Text : D-ROOM\n",
      "Text : D-ROOM\n",
      "QRコードが検出されません\n",
      "QRコードが検出されません\n"
     ]
    }
   ],
   "source": [
    "import cv2\n",
    "import time\n",
    "\n",
    "\n",
    "# カメラ起動\n",
    "cap = cv2.VideoCapture(0)\n",
    "\n",
    "while True:\n",
    "    # カメラからフレームを取得\n",
    "    ret, frame = cap.read()\n",
    "\n",
    "    # QRコード読み取り\n",
    "    code = cv2.QRCodeDetector()\n",
    "    data, bbox, rectified_image = code.detectAndDecode(frame)\n",
    "\n",
    "    # QRコードの中身表示\n",
    "    if data:\n",
    "        print('Text :', data)\n",
    "    else:\n",
    "        print('QRコードが検出されません')\n",
    "\n",
    "    # 画像表示\n",
    "    cv2.imshow('QR_Code', frame)\n",
    "    time.sleep(1)\n",
    "\n",
    "    # ESCキーで終了\n",
    "    key = cv2.waitKey(1)\n",
    "    if key == 27:\n",
    "        break\n",
    "\n",
    "# カメラを解放\n",
    "cap.release()\n",
    "cv2.destroyAllWindows()\n",
    "\n",
    "# Macの方は下記コードのコメント解除してください\n",
    "# cv2.waitKey(1)"
   ]
  },
  {
   "cell_type": "code",
   "execution_count": null,
   "metadata": {},
   "outputs": [],
   "source": []
  }
 ],
 "metadata": {
  "kernelspec": {
   "display_name": "Python 3.9.13 ('py39': venv)",
   "language": "python",
   "name": "python3"
  },
  "language_info": {
   "codemirror_mode": {
    "name": "ipython",
    "version": 3
   },
   "file_extension": ".py",
   "mimetype": "text/x-python",
   "name": "python",
   "nbconvert_exporter": "python",
   "pygments_lexer": "ipython3",
   "version": "3.11.7"
  },
  "orig_nbformat": 4,
  "vscode": {
   "interpreter": {
    "hash": "77dfb8f972c2703223d0b6b4a7551c8eb465c70e1f5787aa75eea7e4eebd52f0"
   }
  }
 },
 "nbformat": 4,
 "nbformat_minor": 2
}
