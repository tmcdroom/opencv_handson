{
 "cells": [
  {
   "cell_type": "markdown",
   "metadata": {},
   "source": [
    "# ハフ変換（直線／円検出）\n",
    "- 機能：直線を検出\n",
    "- 活用事例：ワーク位置検出、角度算出したい時など\n",
    "- 課題：パラメータの意味を調べていろいろ調整してみよう"
   ]
  },
  {
   "cell_type": "code",
   "execution_count": 16,
   "metadata": {},
   "outputs": [],
   "source": [
    "import cv2\n",
    "import numpy as np\n",
    "\n",
    "\n",
    "# 画像読み込み\n",
    "img = cv2.imread('./images/nabe550.png')\n",
    "img = cv2.resize(img, (480, 480))\n",
    "\n",
    "# 画像切り取り [縦 始点:縦 終点, 横 始点:横 終点]（わさびのみ切り抜き）\n",
    "img = img[160:430, 0:140]\n",
    "\n",
    "# グレースケール化\n",
    "img_gray = cv2.cvtColor(img, cv2.COLOR_BGR2GRAY)\n",
    "\n",
    "# エッジ検出\n",
    "edges = cv2.Canny(img_gray, 50, 150, apertureSize=3)\n",
    "\n",
    "# 確率的ハフ変換による直線検出\n",
    "lines = cv2.HoughLinesP(edges, 1, np.pi / 180, threshold=20, minLineLength=50, maxLineGap=5)\n",
    "\n",
    "# 直線の描画\n",
    "if lines is not None:\n",
    "    for line in lines:\n",
    "        x1, y1, x2, y2 = line[0]\n",
    "        cv2.line(img, (x1, y1), (x2, y2), (0, 0, 255), 2)\n",
    "\n",
    "\n",
    "# 画像表示\n",
    "cv2.imshow('lines_image', img)\n",
    "\n",
    "# 終了処理\n",
    "cv2.waitKey(0)\n",
    "cv2.destroyAllWindows()\n",
    "\n",
    "cv2.waitKey(1) #Macで終了時に固まってしまう対処\n"
   ]
  },
  {
   "cell_type": "code",
   "execution_count": null,
   "metadata": {},
   "outputs": [],
   "source": []
  }
 ],
 "metadata": {
  "kernelspec": {
   "display_name": "Python 3 (ipykernel)",
   "language": "python",
   "name": "python3"
  },
  "language_info": {
   "codemirror_mode": {
    "name": "ipython",
    "version": 3
   },
   "file_extension": ".py",
   "mimetype": "text/x-python",
   "name": "python",
   "nbconvert_exporter": "python",
   "pygments_lexer": "ipython3",
   "version": "3.11.7"
  },
  "vscode": {
   "interpreter": {
    "hash": "d8e94b8664a19bde008c6bd938e7b97448a45306ca7aa77b863dd44610e511e5"
   }
  }
 },
 "nbformat": 4,
 "nbformat_minor": 2
}
