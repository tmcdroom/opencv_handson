{
 "cells": [
  {
   "cell_type": "markdown",
   "metadata": {},
   "source": [
    "# 図形描画\n",
    "- 機能：様々な図形を描画\n",
    "- 活用事例：マスク処理、物体検出のバウンディングボックスなど\n",
    "- 課題：いろんな図形を描画してみましょう"
   ]
  },
  {
   "cell_type": "markdown",
   "metadata": {},
   "source": [
    "### 画像処理"
   ]
  },
  {
   "cell_type": "code",
   "execution_count": 1,
   "metadata": {},
   "outputs": [],
   "source": [
    "import cv2\n",
    "\n",
    "\n",
    "# 画像読み込み\n",
    "img = cv2.imread('./images/nabe550.png')\n",
    "img = cv2.resize(img, (480, 480))\n",
    "\n",
    "# 画像コピー\n",
    "img_line = img.copy() #線描画用画像\n",
    "img_rec = img.copy() #四角描画用画像\n",
    "img_cir = img.copy() #円描画用画像\n",
    "\n",
    "# 線描画 pt1：始点（横,縦） pt2：終点（横,縦） color(B,G,R)　thickness：線の太さ（-1は塗りつぶし）\n",
    "cv2.line(img=img_line, pt1=(0, 240), pt2=(480, 240), color=(0, 0, 255), thickness=5)\n",
    "\n",
    "# 四角描画 pt1：始点（横,縦） pt2：終点（横,縦） color(B,G,R)　thickness：線の太さ（-1は塗りつぶし）\n",
    "cv2.rectangle(img=img_rec, pt1=(0, 0), pt2=(100, 100), color=(0, 0, 255), thickness=-1)\n",
    "\n",
    "# 円描画 center：中心（横,縦） radius：円の半径 color(B,G,R)　thickness：線の太さ（-1は塗りつぶし）\n",
    "cv2.circle(img=img_cir, center=(240, 240), radius=240, color=(0, 0, 255), thickness=5, lineType=cv2.LINE_AA)\n",
    "\n",
    "# 画像表示\n",
    "cv2.imshow('original_image', img)\n",
    "cv2.imshow('line_image', img_line)\n",
    "cv2.imshow('rec_image', img_rec)\n",
    "cv2.imshow('cir_image', img_cir)\n",
    "\n",
    "# 終了処理\n",
    "cv2.waitKey(0)\n",
    "cv2.destroyAllWindows()\n",
    "\n",
    "cv2.waitKey(1) #Macで終了時に固まってしまう対処"
   ]
  },
  {
   "cell_type": "markdown",
   "metadata": {},
   "source": [
    "### 動画／カメラ処理"
   ]
  },
  {
   "cell_type": "code",
   "execution_count": 5,
   "metadata": {},
   "outputs": [],
   "source": [
    "import cv2\n",
    "\n",
    "\n",
    "cap = cv2.VideoCapture(0)\n",
    "# cap = cv2.VideoCapture(0, cv2.CAP_DSHOW)\n",
    "\n",
    "while True:\n",
    "    \n",
    "    # カメラからフレームを取得\n",
    "    ret, frame = cap.read()\n",
    "    frame = cv2.resize(frame, (640, 480))\n",
    "\n",
    "    # 四角描画\n",
    "    cv2.rectangle(img=frame, pt1=(200, 90), pt2=(450, 340), color=(200, 200, 255), thickness=-1)\n",
    "\n",
    "    # 画像表示\n",
    "    cv2.imshow('movie', frame)\n",
    "\n",
    "    # ESCキーを押したらループを終了\n",
    "    key = cv2.waitKey(1)\n",
    "    if key == 27:\n",
    "        break\n",
    "\n",
    "cap.release()\n",
    "cv2.destroyAllWindows()\n",
    "\n",
    "# Macの方は下記コードのコメント解除してください\n",
    "# cv2.waitKey(1)"
   ]
  },
  {
   "cell_type": "code",
   "execution_count": null,
   "metadata": {},
   "outputs": [],
   "source": []
  }
 ],
 "metadata": {
  "interpreter": {
   "hash": "b68e25d4e547eea1d6d40c268719458debd8508e81b2e3bb6bbe0f173207ed28"
  },
  "kernelspec": {
   "display_name": "Python 3.9.5 64-bit ('py39': venv)",
   "name": "python3"
  },
  "language_info": {
   "codemirror_mode": {
    "name": "ipython",
    "version": 3
   },
   "file_extension": ".py",
   "mimetype": "text/x-python",
   "name": "python",
   "nbconvert_exporter": "python",
   "pygments_lexer": "ipython3",
   "version": "3.11.7"
  },
  "orig_nbformat": 4
 },
 "nbformat": 4,
 "nbformat_minor": 2
}
