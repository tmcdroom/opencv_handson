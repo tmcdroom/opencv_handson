{
 "cells": [
  {
   "cell_type": "markdown",
   "metadata": {},
   "source": [
    "# 5-10_マスク処理\n",
    "- 機能：元画像とマスク画像を合わせて領域を隠す\n",
    "- 活用事例：ワークのみを抽出したい、不要な領域を隠したい\n",
    "- 課題：マスク画像を作ってみましょう"
   ]
  },
  {
   "cell_type": "markdown",
   "metadata": {},
   "source": [
    "### 画像処理"
   ]
  },
  {
   "cell_type": "code",
   "execution_count": 22,
   "metadata": {},
   "outputs": [],
   "source": [
    "import cv2\n",
    "\n",
    "\n",
    "# 画像読み込み\n",
    "img = cv2.imread('./images/nabe550.png')\n",
    "img = cv2.resize(img, (480, 480))\n",
    "\n",
    "# マスク画像の読み込み\n",
    "img_mask = cv2.imread('./images/mask.jpg', 0) #0にするとグレースケール読み込み \n",
    "img_mask = cv2.resize(img_mask, (480, 480))\n",
    "# img_mask = cv2.bitwise_not(img_mask) #マスクの反転\n",
    "\n",
    "# マスク処理\n",
    "masked_image = cv2.bitwise_and(img, img, mask=img_mask)\n",
    "\n",
    "# 画像表示\n",
    "cv2.imshow('original_image', img)\n",
    "cv2.imshow('masked_image', masked_image)\n",
    "\n",
    "# 終了処理\n",
    "cv2.waitKey(0)\n",
    "cv2.destroyAllWindows()\n",
    "\n",
    "cv2.waitKey(1) #Macで終了時に固まってしまう対処"
   ]
  },
  {
   "cell_type": "code",
   "execution_count": null,
   "metadata": {},
   "outputs": [],
   "source": []
  }
 ],
 "metadata": {
  "kernelspec": {
   "display_name": "Python 3.9.13 ('py39': venv)",
   "language": "python",
   "name": "python3"
  },
  "language_info": {
   "codemirror_mode": {
    "name": "ipython",
    "version": 3
   },
   "file_extension": ".py",
   "mimetype": "text/x-python",
   "name": "python",
   "nbconvert_exporter": "python",
   "pygments_lexer": "ipython3",
   "version": "3.11.7"
  },
  "orig_nbformat": 4,
  "vscode": {
   "interpreter": {
    "hash": "77dfb8f972c2703223d0b6b4a7551c8eb465c70e1f5787aa75eea7e4eebd52f0"
   }
  }
 },
 "nbformat": 4,
 "nbformat_minor": 2
}
