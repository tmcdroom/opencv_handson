{
 "cells": [
  {
   "cell_type": "markdown",
   "metadata": {},
   "source": [
    "# RGB画像分割\n",
    "- 機能：カラー画像をR／G／B画像に分割\n",
    "- 活用事例：対象物を目立たせたい／消したい時、見えない何かが見える時がある\n",
    "- 課題：ご自身の画像を処理してみましょう"
   ]
  },
  {
   "cell_type": "markdown",
   "metadata": {},
   "source": [
    "### 画像処理"
   ]
  },
  {
   "cell_type": "code",
   "execution_count": 1,
   "metadata": {},
   "outputs": [],
   "source": [
    "import cv2\n",
    "\n",
    "\n",
    "# 画像読み込み\n",
    "img = cv2.imread('./images/nabe550.png')\n",
    "img = cv2.resize(img, (480, 480))\n",
    "\n",
    "# RGB画像分割\n",
    "img_blue, img_green, img_red = cv2.split(img)\n",
    "\n",
    "# 画像表示\n",
    "cv2.imshow('original_image', img)\n",
    "cv2.imshow('Blue_image', img_blue)\n",
    "cv2.imshow('Green_image', img_green)\n",
    "cv2.imshow('Red_image', img_red)\n",
    "\n",
    "# 終了処理\n",
    "cv2.waitKey(0)\n",
    "cv2.destroyAllWindows()\n",
    "\n",
    "cv2.waitKey(1) #Macで終了時に固まってしまう対処"
   ]
  },
  {
   "cell_type": "markdown",
   "metadata": {},
   "source": [
    "### カメラ／動画処理"
   ]
  },
  {
   "cell_type": "code",
   "execution_count": 2,
   "metadata": {},
   "outputs": [],
   "source": [
    "import cv2\n",
    "\n",
    "\n",
    "cap = cv2.VideoCapture(0)\n",
    "# cap = cv2.VideoCapture(0, cv2.CAP_DSHOW)\n",
    "\n",
    "while True:\n",
    "    \n",
    "    # カメラからフレームを取得\n",
    "    ret, frame = cap.read()\n",
    "    frame = cv2.resize(frame, (640, 480))\n",
    "\n",
    "    # RGB画像分割\n",
    "    img_blue, img_green, img_red = cv2.split(frame)\n",
    "\n",
    "    # 画像表示\n",
    "    cv2.imshow('movie', img_blue) #青画像を表示させてます\n",
    "\n",
    "    # ESCキーを押したらループを終了\n",
    "    key = cv2.waitKey(1)\n",
    "    if key == 27:\n",
    "        break\n",
    "\n",
    "cap.release()\n",
    "cv2.destroyAllWindows()\n",
    "\n",
    "# Macの方は下記コードのコメント解除してください\n",
    "# cv2.waitKey(1)"
   ]
  },
  {
   "cell_type": "code",
   "execution_count": null,
   "metadata": {},
   "outputs": [],
   "source": []
  }
 ],
 "metadata": {
  "kernelspec": {
   "display_name": "Python 3.9.13 ('py39': venv)",
   "language": "python",
   "name": "python3"
  },
  "language_info": {
   "codemirror_mode": {
    "name": "ipython",
    "version": 3
   },
   "file_extension": ".py",
   "mimetype": "text/x-python",
   "name": "python",
   "nbconvert_exporter": "python",
   "pygments_lexer": "ipython3",
   "version": "3.11.7"
  },
  "orig_nbformat": 4,
  "vscode": {
   "interpreter": {
    "hash": "77dfb8f972c2703223d0b6b4a7551c8eb465c70e1f5787aa75eea7e4eebd52f0"
   }
  }
 },
 "nbformat": 4,
 "nbformat_minor": 2
}
